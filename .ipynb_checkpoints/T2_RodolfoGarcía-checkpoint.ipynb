{
 "cells": [
  {
   "cell_type": "markdown",
   "metadata": {},
   "source": [
    "# Resumen de articulos"
   ]
  },
  {
   "cell_type": "markdown",
   "metadata": {},
   "source": [
    "El primer [articulo](https://www.economist.com/graphic-detail/2018/07/26/python-is-becoming-the-worlds-most-popular-coding-language) se titula: Python is becoming the world’s most popular coding language\n",
    "\n",
    "Bueno este articulo habla sobre como python se ha convertido en el lenguaje de programacion favorito de las personas, al grado que en USA se ha buscado mas veces en google cosas relacionadas sobre python que sobre Kim Kardashian. Tambien mencionan que la comunidad que se ha ido creando con el paso del tiempo, mejor conocidos como pythonistas, ha subido a la red mas de 145,000 archivos o softwares a un repositorio online y que cubre desde videojuegos hasta astronomia y que puede ser implementado a un programa de python en cuestion de segundos, tambien mencionan que gracias a esto ha permitido a la CIA hackear de una manera facil, a pixar poder crear peliculas y a spotify poder recomendarte canciones y que a todo esto se le conoce como machin learning. \n"
   ]
  }
 ],
 "metadata": {
  "kernelspec": {
   "display_name": "Python 3",
   "language": "python",
   "name": "python3"
  },
  "language_info": {
   "codemirror_mode": {
    "name": "ipython",
    "version": 3
   },
   "file_extension": ".py",
   "mimetype": "text/x-python",
   "name": "python",
   "nbconvert_exporter": "python",
   "pygments_lexer": "ipython3",
   "version": "3.7.4"
  }
 },
 "nbformat": 4,
 "nbformat_minor": 2
}
