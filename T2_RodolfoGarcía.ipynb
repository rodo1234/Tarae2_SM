{
 "cells": [
  {
   "cell_type": "markdown",
   "metadata": {},
   "source": [
    "# Resumen de articulos"
   ]
  },
  {
   "cell_type": "markdown",
   "metadata": {},
   "source": [
    "El primer [articulo](https://www.economist.com/graphic-detail/2018/07/26/python-is-becoming-the-worlds-most-popular-coding-language) se titula: Python is becoming the world’s most popular coding language\n",
    "\n",
    "Bueno este articulo habla sobre como Python se ha convertido en el lenguaje de programación favorito de las personas, al grado que en USA se ha buscado más veces en Google cosas relacionadas sobre Python que sobre Kim Kardashian. también mencionan que la comunidad que se ha ido creando con el paso del tiempo, mejor conocidos como pythonistas, ha subido a la red más de 145,000 archivos o softwares a un repositorio online y que cubre desde videojuegos hasta Astronomía y que puede ser implementado a un programa de Python en cuestión de segundos, también mencionan que gracias a esto ha permitido a la CIA hackear de una manera fácil, a pixar poder crear películas y a Spotify poder recomendarte canciones y que a todo esto se le conoce como machine learning."
   ]
  },
  {
   "cell_type": "markdown",
   "metadata": {},
   "source": [
    "El segundo [articulo](https://www.economist.com/science-and-technology/2018/07/19/python-has-brought-computer-programming-to-a-vast-new-audience) se llama: Python has brought computer programming to a vast new audience\n",
    "\n",
    "Este artículo se relaciona con el primero, solo que este menciona un par de cosas extras, lo que dice es que en diciembre de 1989 Guido Van Rossum, se propuso crear un proyecto de navidad ya que se sentía que los programas existentes eran deficientes y difíciles de leer. Se propuso a crear algo que fuera fácil de leer, en que cada línea estaría rodeada de un espacio en blanco y una sangría, también que permitiera a los usuarios crear sus propios paquetes de módulos y que estuvieran a disposición de otras personas para poder crear nuevos programas y por último quería un nombre corto y un poco misterioso, lo llamo Monty Python."
   ]
  }
 ],
 "metadata": {
  "kernelspec": {
   "display_name": "Python 3",
   "language": "python",
   "name": "python3"
  },
  "language_info": {
   "codemirror_mode": {
    "name": "ipython",
    "version": 3
   },
   "file_extension": ".py",
   "mimetype": "text/x-python",
   "name": "python",
   "nbconvert_exporter": "python",
   "pygments_lexer": "ipython3",
   "version": "3.7.4"
  }
 },
 "nbformat": 4,
 "nbformat_minor": 2
}
